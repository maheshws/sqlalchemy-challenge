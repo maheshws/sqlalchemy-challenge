{
 "cells": [
  {
   "cell_type": "code",
   "execution_count": 1,
   "metadata": {},
   "outputs": [],
   "source": [
    "%matplotlib inline\n",
    "from matplotlib import style\n",
    "style.use('fivethirtyeight')\n",
    "import matplotlib.pyplot as plt"
   ]
  },
  {
   "cell_type": "code",
   "execution_count": 2,
   "metadata": {},
   "outputs": [],
   "source": [
    "import numpy as np\n",
    "import pandas as pd"
   ]
  },
  {
   "cell_type": "code",
   "execution_count": 3,
   "metadata": {},
   "outputs": [],
   "source": [
    "import datetime as dt\n",
    "import matplotlib.dates as mdates\n",
    "from datetime import datetime, date\n",
    "from dateutil.relativedelta import relativedelta\n",
    "from matplotlib.dates import DateFormatter"
   ]
  },
  {
   "cell_type": "markdown",
   "metadata": {},
   "source": [
    "# Reflect Tables into SQLAlchemy ORM"
   ]
  },
  {
   "cell_type": "code",
   "execution_count": 4,
   "metadata": {},
   "outputs": [],
   "source": [
    "# Python SQL toolkit and Object Relational Mapper\n",
    "import sqlalchemy\n",
    "from sqlalchemy.ext.automap import automap_base\n",
    "from sqlalchemy.orm import Session\n",
    "from sqlalchemy import create_engine, func, distinct, and_"
   ]
  },
  {
   "cell_type": "code",
   "execution_count": 5,
   "metadata": {},
   "outputs": [],
   "source": [
    "#Create engine\n",
    "engine = create_engine(\"sqlite:///Resources/hawaii.sqlite\")"
   ]
  },
  {
   "cell_type": "code",
   "execution_count": 6,
   "metadata": {},
   "outputs": [],
   "source": [
    "#Declare a base using automap_base\n",
    "Base=automap_base()"
   ]
  },
  {
   "cell_type": "code",
   "execution_count": 7,
   "metadata": {},
   "outputs": [
    {
     "data": {
      "text/plain": [
       "['measurement', 'station']"
      ]
     },
     "execution_count": 7,
     "metadata": {},
     "output_type": "execute_result"
    }
   ],
   "source": [
    "# reflect an existing database into a new model\n",
    "Base.prepare(engine, reflect=True)\n",
    "\n",
    "# reflect the tables\n",
    "# Print all of the classes mapped to the Base\n",
    "Base.classes.keys()"
   ]
  },
  {
   "cell_type": "code",
   "execution_count": 8,
   "metadata": {},
   "outputs": [],
   "source": [
    "# We can view all of the classes that automap found\n",
    "# Save references to each table\n",
    "Measurement=Base.classes.measurement"
   ]
  },
  {
   "cell_type": "code",
   "execution_count": 9,
   "metadata": {},
   "outputs": [],
   "source": [
    "Station=Base.classes.station"
   ]
  },
  {
   "cell_type": "code",
   "execution_count": 10,
   "metadata": {},
   "outputs": [
    {
     "data": {
      "text/plain": [
       "{'_sa_instance_state': <sqlalchemy.orm.state.InstanceState at 0x1a758598518>,\n",
       " 'prcp': 0.08,\n",
       " 'station': 'USC00519397',\n",
       " 'id': 1,\n",
       " 'tobs': 65.0,\n",
       " 'date': '2010-01-01'}"
      ]
     },
     "execution_count": 10,
     "metadata": {},
     "output_type": "execute_result"
    }
   ],
   "source": [
    "# Create our session (link) from Python to the DB\n",
    "session=Session(engine)\n",
    "\n",
    "#display first row in measurement\n",
    "Data = session.query(Measurement).first()\n",
    "Data.__dict__"
   ]
  },
  {
   "cell_type": "markdown",
   "metadata": {},
   "source": [
    "# Exploratory Climate Analysis"
   ]
  },
  {
   "cell_type": "code",
   "execution_count": 11,
   "metadata": {},
   "outputs": [
    {
     "data": {
      "text/plain": [
       "datetime.datetime(2016, 8, 23, 0, 0)"
      ]
     },
     "execution_count": 11,
     "metadata": {},
     "output_type": "execute_result"
    }
   ],
   "source": [
    "# Design a query to retrieve the last 12 months of precipitation data and plot the results\n",
    "current_date_str=session.query(Measurement.date).order_by(Measurement.date.desc()).first()[0]\n",
    "current_date_str\n",
    "current_date=datetime.strptime(current_date_str,'%Y-%m-%d' )\n",
    "current_date\n",
    "# Calculate the date 1 year ago from the last data point in the database\n",
    "previous_date= current_date-relativedelta(years=1)\n",
    "previous_date"
   ]
  },
  {
   "cell_type": "code",
   "execution_count": 12,
   "metadata": {},
   "outputs": [
    {
     "data": {
      "text/html": [
       "<div>\n",
       "<style scoped>\n",
       "    .dataframe tbody tr th:only-of-type {\n",
       "        vertical-align: middle;\n",
       "    }\n",
       "\n",
       "    .dataframe tbody tr th {\n",
       "        vertical-align: top;\n",
       "    }\n",
       "\n",
       "    .dataframe thead th {\n",
       "        text-align: right;\n",
       "    }\n",
       "</style>\n",
       "<table border=\"1\" class=\"dataframe\">\n",
       "  <thead>\n",
       "    <tr style=\"text-align: right;\">\n",
       "      <th></th>\n",
       "      <th>prcp</th>\n",
       "    </tr>\n",
       "    <tr>\n",
       "      <th>date</th>\n",
       "      <th></th>\n",
       "    </tr>\n",
       "  </thead>\n",
       "  <tbody>\n",
       "    <tr>\n",
       "      <th>2016-08-24</th>\n",
       "      <td>0.08</td>\n",
       "    </tr>\n",
       "    <tr>\n",
       "      <th>2016-08-24</th>\n",
       "      <td>1.22</td>\n",
       "    </tr>\n",
       "    <tr>\n",
       "      <th>2016-08-24</th>\n",
       "      <td>2.28</td>\n",
       "    </tr>\n",
       "    <tr>\n",
       "      <th>2016-08-24</th>\n",
       "      <td>1.45</td>\n",
       "    </tr>\n",
       "    <tr>\n",
       "      <th>2016-08-24</th>\n",
       "      <td>2.15</td>\n",
       "    </tr>\n",
       "    <tr>\n",
       "      <th>...</th>\n",
       "      <td>...</td>\n",
       "    </tr>\n",
       "    <tr>\n",
       "      <th>2017-08-22</th>\n",
       "      <td>0.50</td>\n",
       "    </tr>\n",
       "    <tr>\n",
       "      <th>2017-08-23</th>\n",
       "      <td>0.00</td>\n",
       "    </tr>\n",
       "    <tr>\n",
       "      <th>2017-08-23</th>\n",
       "      <td>0.08</td>\n",
       "    </tr>\n",
       "    <tr>\n",
       "      <th>2017-08-23</th>\n",
       "      <td>0.00</td>\n",
       "    </tr>\n",
       "    <tr>\n",
       "      <th>2017-08-23</th>\n",
       "      <td>0.45</td>\n",
       "    </tr>\n",
       "  </tbody>\n",
       "</table>\n",
       "<p>2015 rows × 1 columns</p>\n",
       "</div>"
      ],
      "text/plain": [
       "            prcp\n",
       "date            \n",
       "2016-08-24  0.08\n",
       "2016-08-24  1.22\n",
       "2016-08-24  2.28\n",
       "2016-08-24  1.45\n",
       "2016-08-24  2.15\n",
       "...          ...\n",
       "2017-08-22  0.50\n",
       "2017-08-23  0.00\n",
       "2017-08-23  0.08\n",
       "2017-08-23  0.00\n",
       "2017-08-23  0.45\n",
       "\n",
       "[2015 rows x 1 columns]"
      ]
     },
     "execution_count": 12,
     "metadata": {},
     "output_type": "execute_result"
    }
   ],
   "source": [
    "# Perform a query to retrieve the date and precipitation scores\n",
    "date_prcp_scores=session.query(Measurement.date, Measurement.prcp).filter(Measurement.date>previous_date).all()            \n",
    "                     \n",
    "measurement_df =pd.DataFrame(date_prcp_scores)\n",
    "#measurement_df.head()\n",
    "measurement_df = measurement_df.set_index('date')\n",
    "measurement_df = measurement_df.dropna()\n",
    "measurement_df=measurement_df.sort_values(by = ['date'], ascending=True)\n",
    "measurement_df\n"
   ]
  },
  {
   "cell_type": "code",
   "execution_count": 13,
   "metadata": {},
   "outputs": [
    {
     "data": {
      "image/png": "[encoded data removed]",
      "text/plain": [
       "<Figure size 1008x432 with 1 Axes>"
      ]
     },
     "metadata": {},
     "output_type": "display_data"
    }
   ],
   "source": [
    "ax = measurement_df.plot( figsize=(14,6)\n",
    "                         ,title='Precipitation Data\\n Aug 2016-Aug 2017'\n",
    "                         ,grid=True\n",
    "                         ,color='#003399'\n",
    "                         ,rot='90'\n",
    "                         ,fontsize=12\n",
    ") \n",
    "\n",
    "ax.set_xlabel('Date') \n",
    "ax.set_ylabel('Precipitation (inches)') \n",
    "ax.legend(['Precipitation'])\n",
    "\n",
    "# Save the generated plot to an image file\n",
    "plt.savefig( './output/fig01-precipitation.png'\n",
    "            ,format='png'\n",
    "            ,bbox_inches='tight'\n",
    "            ,dpi=300\n",
    ")  "
   ]
  },
  {
   "cell_type": "code",
   "execution_count": 14,
   "metadata": {},
   "outputs": [
    {
     "data": {
      "text/html": [
       "<div>\n",
       "<style scoped>\n",
       "    .dataframe tbody tr th:only-of-type {\n",
       "        vertical-align: middle;\n",
       "    }\n",
       "\n",
       "    .dataframe tbody tr th {\n",
       "        vertical-align: top;\n",
       "    }\n",
       "\n",
       "    .dataframe thead th {\n",
       "        text-align: right;\n",
       "    }\n",
       "</style>\n",
       "<table border=\"1\" class=\"dataframe\">\n",
       "  <thead>\n",
       "    <tr style=\"text-align: right;\">\n",
       "      <th></th>\n",
       "      <th>prcp</th>\n",
       "    </tr>\n",
       "  </thead>\n",
       "  <tbody>\n",
       "    <tr>\n",
       "      <th>count</th>\n",
       "      <td>2015.000000</td>\n",
       "    </tr>\n",
       "    <tr>\n",
       "      <th>mean</th>\n",
       "      <td>0.176462</td>\n",
       "    </tr>\n",
       "    <tr>\n",
       "      <th>std</th>\n",
       "      <td>0.460288</td>\n",
       "    </tr>\n",
       "    <tr>\n",
       "      <th>min</th>\n",
       "      <td>0.000000</td>\n",
       "    </tr>\n",
       "    <tr>\n",
       "      <th>25%</th>\n",
       "      <td>0.000000</td>\n",
       "    </tr>\n",
       "    <tr>\n",
       "      <th>50%</th>\n",
       "      <td>0.020000</td>\n",
       "    </tr>\n",
       "    <tr>\n",
       "      <th>75%</th>\n",
       "      <td>0.130000</td>\n",
       "    </tr>\n",
       "    <tr>\n",
       "      <th>max</th>\n",
       "      <td>6.700000</td>\n",
       "    </tr>\n",
       "  </tbody>\n",
       "</table>\n",
       "</div>"
      ],
      "text/plain": [
       "              prcp\n",
       "count  2015.000000\n",
       "mean      0.176462\n",
       "std       0.460288\n",
       "min       0.000000\n",
       "25%       0.000000\n",
       "50%       0.020000\n",
       "75%       0.130000\n",
       "max       6.700000"
      ]
     },
     "execution_count": 14,
     "metadata": {},
     "output_type": "execute_result"
    }
   ],
   "source": [
    "# Use Pandas to calcualte the summary statistics for the precipitation data\n",
    "measurement_df.describe()\n"
   ]
  },
  {
   "cell_type": "code",
   "execution_count": 15,
   "metadata": {},
   "outputs": [
    {
     "data": {
      "text/plain": [
       "(9)"
      ]
     },
     "execution_count": 15,
     "metadata": {},
     "output_type": "execute_result"
    }
   ],
   "source": [
    "# Design a query to show how many stations are available in this dataset?\n",
    "station_count = session.query(func.count(distinct(Measurement.station)))\n",
    "station_count[0]\n"
   ]
  },
  {
   "cell_type": "code",
   "execution_count": 16,
   "metadata": {},
   "outputs": [
    {
     "data": {
      "text/plain": [
       "[('USC00519281', 2772),\n",
       " ('USC00519397', 2724),\n",
       " ('USC00513117', 2709),\n",
       " ('USC00519523', 2669),\n",
       " ('USC00516128', 2612),\n",
       " ('USC00514830', 2202),\n",
       " ('USC00511918', 1979),\n",
       " ('USC00517948', 1372),\n",
       " ('USC00518838', 511)]"
      ]
     },
     "execution_count": 16,
     "metadata": {},
     "output_type": "execute_result"
    }
   ],
   "source": [
    "# What are the most active stations? (i.e. what stations have the most rows)?\n",
    "# List the stations and the counts in descending order.\n",
    "active_stations= session.query(Measurement.station,func.count(Measurement.station))\\\n",
    "                                .group_by(Measurement.station)\\\n",
    "                                .order_by(func.count(Measurement.station).desc()).all()\n",
    "active_stations"
   ]
  },
  {
   "cell_type": "code",
   "execution_count": 17,
   "metadata": {},
   "outputs": [
    {
     "data": {
      "text/plain": [
       "'USC00519281'"
      ]
     },
     "execution_count": 17,
     "metadata": {},
     "output_type": "execute_result"
    }
   ],
   "source": [
    "# Using the station id from the previous query, calculate the lowest temperature recorded, \n",
    "# highest temperature recorded, and average temperature of the most active station?\n",
    "\n",
    "#from the above dataset, we need to get the first record(ordered in descending) to get the\n",
    "#station id.\n",
    "dict_active_station= active_stations[0]._asdict()\n",
    "dict_active_station\n",
    "\n",
    "most_active_stationID = dict_active_station.get('station')\n",
    "most_active_stationID\n",
    "\n",
    "\n",
    "\n",
    "# qry = session.query(func.max(Player.score).label(\"max_score\"), \n",
    "#                 func.min(Player.score).label(\"min_score\"),\n",
    "#                 )\n"
   ]
  },
  {
   "cell_type": "code",
   "execution_count": 18,
   "metadata": {},
   "outputs": [
    {
     "data": {
      "text/plain": [
       "<sqlalchemy.orm.query.Query at 0x1a758de3278>"
      ]
     },
     "execution_count": 18,
     "metadata": {},
     "output_type": "execute_result"
    }
   ],
   "source": [
    "##\n",
    "#Use the above station id to get the min, max, and average temperature\n",
    "result = session.query(func.max(Measurement.tobs).label('Maximum_Temperature')\\\n",
    "                         ,func.min(Measurement.tobs).label('Minimum_Temperature')\\\n",
    "                       ,func.avg(Measurement.tobs).label('Average_Temperature') )\\\n",
    "            .filter(Measurement.station ==most_active_stationID)\n",
    "result"
   ]
  },
  {
   "cell_type": "code",
   "execution_count": 19,
   "metadata": {},
   "outputs": [
    {
     "name": "stdout",
     "output_type": "stream",
     "text": [
      "85.0\n",
      "54.0\n",
      "71.66378066378067\n"
     ]
    }
   ],
   "source": [
    "##\n",
    "#print max, min , and avg temperature\n",
    "res = result.one()\n",
    "print(res.Maximum_Temperature)\n",
    "print(res.Minimum_Temperature)\n",
    "print(res.Average_Temperature)\n"
   ]
  },
  {
   "cell_type": "code",
   "execution_count": 20,
   "metadata": {},
   "outputs": [
    {
     "data": {
      "text/plain": [
       "[('USC00519281', 2772),\n",
       " ('USC00519397', 2724),\n",
       " ('USC00513117', 2709),\n",
       " ('USC00519523', 2669),\n",
       " ('USC00516128', 2612),\n",
       " ('USC00514830', 2202),\n",
       " ('USC00511918', 1979),\n",
       " ('USC00517948', 1372),\n",
       " ('USC00518838', 511)]"
      ]
     },
     "execution_count": 20,
     "metadata": {},
     "output_type": "execute_result"
    }
   ],
   "source": [
    "# Choose the station with the highest number of temperature observations.\n",
    "\n",
    "station_temp_obs= session.query(Measurement.station,func.count(Measurement.tobs))\\\n",
    "                                .group_by(Measurement.station)\\\n",
    "                                .order_by(func.count(Measurement.tobs).desc()).all()\n",
    "station_temp_obs"
   ]
  },
  {
   "cell_type": "code",
   "execution_count": 21,
   "metadata": {},
   "outputs": [
    {
     "data": {
      "text/plain": [
       "'USC00519281'"
      ]
     },
     "execution_count": 21,
     "metadata": {},
     "output_type": "execute_result"
    }
   ],
   "source": [
    "##Get the station id for maximum temperature observations\n",
    "dict_most_temp_station= station_temp_obs[0]._asdict()\n",
    "dict_most_temp_station\n",
    "\n",
    "most_temp_stationID = dict_most_temp_station.get('station')\n",
    "most_temp_stationID"
   ]
  },
  {
   "cell_type": "code",
   "execution_count": 22,
   "metadata": {},
   "outputs": [
    {
     "data": {
      "text/plain": [
       "(351, 2)"
      ]
     },
     "execution_count": 22,
     "metadata": {},
     "output_type": "execute_result"
    }
   ],
   "source": [
    "# Query the last 12 months of temperature observation data for this station and plot the results as a histogram\n",
    "##\n",
    "# temp_data_19281=session.query(Measurement.date, Measurement.tobs)\\\n",
    "# .filter(Measurement.station==most_temp_stationID)\\\n",
    "# .filter(Measurement.date>previous_date).all()  \n",
    "\n",
    "temp_data=session.query(Measurement.date, Measurement.tobs).filter(Measurement.station==most_temp_stationID)\\\n",
    "            .filter(Measurement.date>previous_date).all()\n",
    "\n",
    "temp_data\n",
    "\n",
    "##Creating the data frame for temperature observation for Station ID USC00519281\n",
    "                     \n",
    "temp_df =pd.DataFrame(temp_data)\n",
    "temp_df.shape"
   ]
  },
  {
   "cell_type": "code",
   "execution_count": 42,
   "metadata": {},
   "outputs": [
    {
     "data": {
      "image/png": "[encoded data removed]",
      "text/plain": [
       "<Figure size 432x288 with 1 Axes>"
      ]
     },
     "metadata": {},
     "output_type": "display_data"
    }
   ],
   "source": [
    "##\n",
    "#plotting the 12 month temperature data as a histogram\n",
    "\n",
    "# data = pd.cut(temp_df['tobs'], bins=12)\n",
    "plt.hist(temp_df['tobs'],bins = 12)\n",
    "plt.xlabel('Temperature')\n",
    "plt.ylabel('Frequency')\n",
    "plt.title('Temperature Data For Station ID USC00519281')\n",
    "plt.savefig(\"output/fig02_station_histogram.png\")\n",
    "\n",
    "\n"
   ]
  },
  {
   "cell_type": "markdown",
   "metadata": {},
   "source": [
    "## Bonus Challenge Assignment"
   ]
  },
  {
   "cell_type": "markdown",
   "metadata": {},
   "source": [
    "### Temperature Analysis I"
   ]
  },
  {
   "cell_type": "markdown",
   "metadata": {},
   "source": [
    "Hawaii is reputed to enjoy mild weather all year. Is there a meaningful difference between the temperature in, for example, June and December:"
   ]
  },
  {
   "cell_type": "code",
   "execution_count": 24,
   "metadata": {},
   "outputs": [],
   "source": [
    "df_weatherdata = pd.read_csv('Resources/hawaii_measurements.csv')\n",
    "df_weatherdata\n",
    "df_weather_june_only = df_weatherdata.loc[df_weatherdata['date'].str.contains('-06-', case=False, regex=True, na=False)]\n",
    "df_weather_dec_only = df_weatherdata.loc[df_weatherdata['date'].str.contains('-12-', case=False, regex=True, na=False)]\n",
    "#Now find the average tempreature in June\n",
    "June_Average = df_weather_june_only['tobs'].mean()\n",
    "Dec_Average = df_weather_dec_only['tobs'].mean()\n"
   ]
  },
  {
   "cell_type": "code",
   "execution_count": 25,
   "metadata": {},
   "outputs": [
    {
     "data": {
      "text/plain": [
       "74.94411764705882"
      ]
     },
     "execution_count": 25,
     "metadata": {},
     "output_type": "execute_result"
    }
   ],
   "source": [
    "# June average for all stations is :\n",
    "June_Average"
   ]
  },
  {
   "cell_type": "code",
   "execution_count": 26,
   "metadata": {},
   "outputs": [
    {
     "data": {
      "text/plain": [
       "71.04152933421226"
      ]
     },
     "execution_count": 26,
     "metadata": {},
     "output_type": "execute_result"
    }
   ],
   "source": [
    "# December average for all stations is :\n",
    "Dec_Average"
   ]
  },
  {
   "cell_type": "code",
   "execution_count": 27,
   "metadata": {},
   "outputs": [
    {
     "data": {
      "text/plain": [
       "Ttest_indResult(statistic=31.355036920962423, pvalue=4.193529835915755e-187)"
      ]
     },
     "execution_count": 27,
     "metadata": {},
     "output_type": "execute_result"
    }
   ],
   "source": [
    "# Since the weather in month of June and December are not related to each other , we should do an unpaired t-test\n",
    "from scipy import stats\n",
    "stats.ttest_ind(df_weather_june_only['tobs'], df_weather_dec_only['tobs'],equal_var=False)"
   ]
  },
  {
   "cell_type": "markdown",
   "metadata": {},
   "source": [
    "### Temperature Analysis II"
   ]
  },
  {
   "cell_type": "code",
   "execution_count": 28,
   "metadata": {},
   "outputs": [],
   "source": [
    "from datetime import datetime\n",
    "from flask import jsonify\n",
    "# This function called `calc_temps` will accept start date and end date in the format '%Y-%m-%d' \n",
    "# and return the minimum, average, and maximum temperatures for that range of dates\n",
    "def calc_temps(start, end):\n",
    "#     \"\"\"TMIN, TAVG, and TMAX for a list of dates.    \n",
    "#     Args:\n",
    "#         start_date (string): A date string in the format %Y-%m-%d\n",
    "#         end_date (string): A date string in the format %Y-%m-%d\n",
    "        \n",
    "#     Returns:\n",
    "#         TMIN, TAVE, and TMAX\n",
    "#     \"\"\"\n",
    "    date_format = '%Y-%m-%d'\n",
    "    try:\n",
    "        date_start = datetime.strptime(start, date_format)\n",
    "        date_end = datetime.strptime(end, date_format)\n",
    "    except ValueError:\n",
    "#   (\"Incorrect data format, should be YYYY-MM-DD\")\n",
    "     return 'Incorrect date format, should be YYYY-MM-DD'\n",
    "    # Create our session (link) from Python to the DB\n",
    "    session = Session(engine)\n",
    "    result = session.query(func.min(Measurement.tobs).label(\"Minimum_Tempreature\"),\n",
    "                       func.avg(Measurement.tobs).label(\"Average_Tempreature\"),\n",
    "                       func.max(Measurement.tobs).label(\"Maximum_Tempreature\"),).filter(and_( Measurement.date >= date_start ,Measurement.date <= date_end))\n",
    "#     for row in result:\n",
    "#         return(row._asdict())    \n",
    "    return result.one()\n"
   ]
  },
  {
   "cell_type": "code",
   "execution_count": 29,
   "metadata": {},
   "outputs": [
    {
     "name": "stdout",
     "output_type": "stream",
     "text": [
      "Enter the start date in YYYY-MM-DD 2016-08-23\n",
      "Enter the end date in YYYY-MM-DD 2017-08-24\n"
     ]
    },
    {
     "data": {
      "text/plain": [
       "(58.0, 74.57894736842105, 87.0)"
      ]
     },
     "execution_count": 29,
     "metadata": {},
     "output_type": "execute_result"
    }
   ],
   "source": [
    "start=str(input('Enter the start date in YYYY-MM-DD '))\n",
    "end = str(input('Enter the end date in YYYY-MM-DD '))\n",
    "calc_temps(start,end)\n"
   ]
  },
  {
   "cell_type": "code",
   "execution_count": 30,
   "metadata": {},
   "outputs": [
    {
     "data": {
      "text/plain": [
       "58.0"
      ]
     },
     "execution_count": 30,
     "metadata": {},
     "output_type": "execute_result"
    }
   ],
   "source": [
    "# Use your previous function `calc_temps` to calculate the tmin, tavg, and tmax \n",
    "# for your trip using the previous year's data for those same dates.\n",
    "tmin, tavg, tmax = calc_temps('2017-03-06','2017-08-23')\n",
    "tmin\n"
   ]
  },
  {
   "cell_type": "code",
   "execution_count": 40,
   "metadata": {},
   "outputs": [
    {
     "data": {
      "image/png": "[encoded data removed]",
      "text/plain": [
       "<Figure size 288x720 with 1 Axes>"
      ]
     },
     "metadata": {},
     "output_type": "display_data"
    }
   ],
   "source": [
    "# Plot the results from your previous query as a bar chart. \n",
    "# Use \"Trip Avg Temp\" as your Title\n",
    "# Use the average temperature for the y value\n",
    "# Use the peak-to-peak (tmax-tmin) value as the y error bar (yerr)\n",
    "yerr=tmax-tmin\n",
    "fig, ax = plt.subplots(figsize=plt.figaspect(2.5))\n",
    "x = 1\n",
    "ax.set(xticks=range(x), ylabel= 'Temp(F)',title= 'Trip Avg Temp')\n",
    "plot_1 = ax.bar(x,tavg, yerr=yerr, color ='lightcoral' )\n",
    "plt.savefig(\"output/tempreature.png\")"
   ]
  },
  {
   "cell_type": "markdown",
   "metadata": {},
   "source": [
    "### Daily Rainfall Average"
   ]
  },
  {
   "cell_type": "code",
   "execution_count": 32,
   "metadata": {},
   "outputs": [
    {
     "data": {
      "text/html": [
       "<div>\n",
       "<style scoped>\n",
       "    .dataframe tbody tr th:only-of-type {\n",
       "        vertical-align: middle;\n",
       "    }\n",
       "\n",
       "    .dataframe tbody tr th {\n",
       "        vertical-align: top;\n",
       "    }\n",
       "\n",
       "    .dataframe thead th {\n",
       "        text-align: right;\n",
       "    }\n",
       "</style>\n",
       "<table border=\"1\" class=\"dataframe\">\n",
       "  <thead>\n",
       "    <tr style=\"text-align: right;\">\n",
       "      <th></th>\n",
       "      <th>station</th>\n",
       "      <th>name</th>\n",
       "      <th>latitude</th>\n",
       "      <th>longitude</th>\n",
       "      <th>elevation</th>\n",
       "      <th>date</th>\n",
       "      <th>prcp</th>\n",
       "      <th>tobs</th>\n",
       "    </tr>\n",
       "  </thead>\n",
       "  <tbody>\n",
       "    <tr>\n",
       "      <th>0</th>\n",
       "      <td>USC00519397</td>\n",
       "      <td>WAIKIKI 717.2, HI US</td>\n",
       "      <td>21.2716</td>\n",
       "      <td>-157.8168</td>\n",
       "      <td>3.0</td>\n",
       "      <td>2010-01-01</td>\n",
       "      <td>0.08</td>\n",
       "      <td>65</td>\n",
       "    </tr>\n",
       "    <tr>\n",
       "      <th>1</th>\n",
       "      <td>USC00519397</td>\n",
       "      <td>WAIKIKI 717.2, HI US</td>\n",
       "      <td>21.2716</td>\n",
       "      <td>-157.8168</td>\n",
       "      <td>3.0</td>\n",
       "      <td>2010-01-02</td>\n",
       "      <td>0.00</td>\n",
       "      <td>63</td>\n",
       "    </tr>\n",
       "    <tr>\n",
       "      <th>2</th>\n",
       "      <td>USC00519397</td>\n",
       "      <td>WAIKIKI 717.2, HI US</td>\n",
       "      <td>21.2716</td>\n",
       "      <td>-157.8168</td>\n",
       "      <td>3.0</td>\n",
       "      <td>2010-01-03</td>\n",
       "      <td>0.00</td>\n",
       "      <td>74</td>\n",
       "    </tr>\n",
       "    <tr>\n",
       "      <th>3</th>\n",
       "      <td>USC00519397</td>\n",
       "      <td>WAIKIKI 717.2, HI US</td>\n",
       "      <td>21.2716</td>\n",
       "      <td>-157.8168</td>\n",
       "      <td>3.0</td>\n",
       "      <td>2010-01-04</td>\n",
       "      <td>0.00</td>\n",
       "      <td>76</td>\n",
       "    </tr>\n",
       "    <tr>\n",
       "      <th>4</th>\n",
       "      <td>USC00519397</td>\n",
       "      <td>WAIKIKI 717.2, HI US</td>\n",
       "      <td>21.2716</td>\n",
       "      <td>-157.8168</td>\n",
       "      <td>3.0</td>\n",
       "      <td>2010-01-06</td>\n",
       "      <td>NaN</td>\n",
       "      <td>73</td>\n",
       "    </tr>\n",
       "    <tr>\n",
       "      <th>5</th>\n",
       "      <td>USC00519397</td>\n",
       "      <td>WAIKIKI 717.2, HI US</td>\n",
       "      <td>21.2716</td>\n",
       "      <td>-157.8168</td>\n",
       "      <td>3.0</td>\n",
       "      <td>2010-01-07</td>\n",
       "      <td>0.06</td>\n",
       "      <td>70</td>\n",
       "    </tr>\n",
       "    <tr>\n",
       "      <th>6</th>\n",
       "      <td>USC00519397</td>\n",
       "      <td>WAIKIKI 717.2, HI US</td>\n",
       "      <td>21.2716</td>\n",
       "      <td>-157.8168</td>\n",
       "      <td>3.0</td>\n",
       "      <td>2010-01-08</td>\n",
       "      <td>0.00</td>\n",
       "      <td>64</td>\n",
       "    </tr>\n",
       "    <tr>\n",
       "      <th>7</th>\n",
       "      <td>USC00519397</td>\n",
       "      <td>WAIKIKI 717.2, HI US</td>\n",
       "      <td>21.2716</td>\n",
       "      <td>-157.8168</td>\n",
       "      <td>3.0</td>\n",
       "      <td>2010-01-09</td>\n",
       "      <td>0.00</td>\n",
       "      <td>68</td>\n",
       "    </tr>\n",
       "    <tr>\n",
       "      <th>8</th>\n",
       "      <td>USC00519397</td>\n",
       "      <td>WAIKIKI 717.2, HI US</td>\n",
       "      <td>21.2716</td>\n",
       "      <td>-157.8168</td>\n",
       "      <td>3.0</td>\n",
       "      <td>2010-01-10</td>\n",
       "      <td>0.00</td>\n",
       "      <td>73</td>\n",
       "    </tr>\n",
       "    <tr>\n",
       "      <th>9</th>\n",
       "      <td>USC00519397</td>\n",
       "      <td>WAIKIKI 717.2, HI US</td>\n",
       "      <td>21.2716</td>\n",
       "      <td>-157.8168</td>\n",
       "      <td>3.0</td>\n",
       "      <td>2010-01-11</td>\n",
       "      <td>0.01</td>\n",
       "      <td>64</td>\n",
       "    </tr>\n",
       "  </tbody>\n",
       "</table>\n",
       "</div>"
      ],
      "text/plain": [
       "       station                  name  latitude  longitude  elevation  \\\n",
       "0  USC00519397  WAIKIKI 717.2, HI US   21.2716  -157.8168        3.0   \n",
       "1  USC00519397  WAIKIKI 717.2, HI US   21.2716  -157.8168        3.0   \n",
       "2  USC00519397  WAIKIKI 717.2, HI US   21.2716  -157.8168        3.0   \n",
       "3  USC00519397  WAIKIKI 717.2, HI US   21.2716  -157.8168        3.0   \n",
       "4  USC00519397  WAIKIKI 717.2, HI US   21.2716  -157.8168        3.0   \n",
       "5  USC00519397  WAIKIKI 717.2, HI US   21.2716  -157.8168        3.0   \n",
       "6  USC00519397  WAIKIKI 717.2, HI US   21.2716  -157.8168        3.0   \n",
       "7  USC00519397  WAIKIKI 717.2, HI US   21.2716  -157.8168        3.0   \n",
       "8  USC00519397  WAIKIKI 717.2, HI US   21.2716  -157.8168        3.0   \n",
       "9  USC00519397  WAIKIKI 717.2, HI US   21.2716  -157.8168        3.0   \n",
       "\n",
       "         date  prcp  tobs  \n",
       "0  2010-01-01  0.08    65  \n",
       "1  2010-01-02  0.00    63  \n",
       "2  2010-01-03  0.00    74  \n",
       "3  2010-01-04  0.00    76  \n",
       "4  2010-01-06   NaN    73  \n",
       "5  2010-01-07  0.06    70  \n",
       "6  2010-01-08  0.00    64  \n",
       "7  2010-01-09  0.00    68  \n",
       "8  2010-01-10  0.00    73  \n",
       "9  2010-01-11  0.01    64  "
      ]
     },
     "execution_count": 32,
     "metadata": {},
     "output_type": "execute_result"
    }
   ],
   "source": [
    "# Calculate the total amount of rainfall per weather station for your trip dates using the previous year's matching dates.\n",
    "# Sort this in descending order by precipitation amount and list the station, name, latitude, longitude, and elevation\n",
    "# Calculate the total amount of rainfall per weather station for your trip dates using the previous year's matching dates.\n",
    "# Sort this in descending order by precipitation amount and list the station, name, latitude, longitude, and elevation\n",
    "# first create a dataframe for station\n",
    "df_station = pd.read_csv('Resources/hawaii_stations.csv')\n",
    "\n",
    "# Now merge both the dataframes and select the columns\n",
    "df_merged_data = pd.merge(df_station, df_weatherdata, how='outer', on=['station'])\n",
    "df_merged_data.head(10)\n",
    "\n",
    "\n"
   ]
  },
  {
   "cell_type": "code",
   "execution_count": 33,
   "metadata": {},
   "outputs": [
    {
     "data": {
      "text/html": [
       "<div>\n",
       "<style scoped>\n",
       "    .dataframe tbody tr th:only-of-type {\n",
       "        vertical-align: middle;\n",
       "    }\n",
       "\n",
       "    .dataframe tbody tr th {\n",
       "        vertical-align: top;\n",
       "    }\n",
       "\n",
       "    .dataframe thead th {\n",
       "        text-align: right;\n",
       "    }\n",
       "</style>\n",
       "<table border=\"1\" class=\"dataframe\">\n",
       "  <thead>\n",
       "    <tr style=\"text-align: right;\">\n",
       "      <th></th>\n",
       "      <th>station</th>\n",
       "      <th>prcp_sum</th>\n",
       "      <th>name</th>\n",
       "      <th>latitude</th>\n",
       "      <th>longitude</th>\n",
       "      <th>elevation</th>\n",
       "    </tr>\n",
       "  </thead>\n",
       "  <tbody>\n",
       "    <tr>\n",
       "      <th>2</th>\n",
       "      <td>USC00516128</td>\n",
       "      <td>147.11</td>\n",
       "      <td>MANOA LYON ARBO 785.2, HI US</td>\n",
       "      <td>21.33310</td>\n",
       "      <td>-157.80250</td>\n",
       "      <td>152.4</td>\n",
       "    </tr>\n",
       "    <tr>\n",
       "      <th>4</th>\n",
       "      <td>USC00519281</td>\n",
       "      <td>68.24</td>\n",
       "      <td>WAIHEE 837.5, HI US</td>\n",
       "      <td>21.45167</td>\n",
       "      <td>-157.84889</td>\n",
       "      <td>32.9</td>\n",
       "    </tr>\n",
       "    <tr>\n",
       "      <th>0</th>\n",
       "      <td>USC00513117</td>\n",
       "      <td>48.36</td>\n",
       "      <td>KANEOHE 838.1, HI US</td>\n",
       "      <td>21.42340</td>\n",
       "      <td>-157.80150</td>\n",
       "      <td>14.6</td>\n",
       "    </tr>\n",
       "    <tr>\n",
       "      <th>6</th>\n",
       "      <td>USC00519523</td>\n",
       "      <td>37.99</td>\n",
       "      <td>WAIMANALO EXPERIMENTAL FARM, HI US</td>\n",
       "      <td>21.33556</td>\n",
       "      <td>-157.71139</td>\n",
       "      <td>19.5</td>\n",
       "    </tr>\n",
       "    <tr>\n",
       "      <th>1</th>\n",
       "      <td>USC00514830</td>\n",
       "      <td>33.19</td>\n",
       "      <td>KUALOA RANCH HEADQUARTERS 886.9, HI US</td>\n",
       "      <td>21.52130</td>\n",
       "      <td>-157.83740</td>\n",
       "      <td>7.0</td>\n",
       "    </tr>\n",
       "    <tr>\n",
       "      <th>5</th>\n",
       "      <td>USC00519397</td>\n",
       "      <td>16.09</td>\n",
       "      <td>WAIKIKI 717.2, HI US</td>\n",
       "      <td>21.27160</td>\n",
       "      <td>-157.81680</td>\n",
       "      <td>3.0</td>\n",
       "    </tr>\n",
       "    <tr>\n",
       "      <th>3</th>\n",
       "      <td>USC00517948</td>\n",
       "      <td>4.59</td>\n",
       "      <td>PEARL CITY, HI US</td>\n",
       "      <td>21.39340</td>\n",
       "      <td>-157.97510</td>\n",
       "      <td>11.9</td>\n",
       "    </tr>\n",
       "  </tbody>\n",
       "</table>\n",
       "</div>"
      ],
      "text/plain": [
       "       station  prcp_sum                                    name  latitude  \\\n",
       "2  USC00516128    147.11            MANOA LYON ARBO 785.2, HI US  21.33310   \n",
       "4  USC00519281     68.24                     WAIHEE 837.5, HI US  21.45167   \n",
       "0  USC00513117     48.36                    KANEOHE 838.1, HI US  21.42340   \n",
       "6  USC00519523     37.99      WAIMANALO EXPERIMENTAL FARM, HI US  21.33556   \n",
       "1  USC00514830     33.19  KUALOA RANCH HEADQUARTERS 886.9, HI US  21.52130   \n",
       "5  USC00519397     16.09                    WAIKIKI 717.2, HI US  21.27160   \n",
       "3  USC00517948      4.59                       PEARL CITY, HI US  21.39340   \n",
       "\n",
       "   longitude  elevation  \n",
       "2 -157.80250      152.4  \n",
       "4 -157.84889       32.9  \n",
       "0 -157.80150       14.6  \n",
       "6 -157.71139       19.5  \n",
       "1 -157.83740        7.0  \n",
       "5 -157.81680        3.0  \n",
       "3 -157.97510       11.9  "
      ]
     },
     "execution_count": 33,
     "metadata": {},
     "output_type": "execute_result"
    }
   ],
   "source": [
    "df_merged_data['date'] = pd.to_datetime(df_merged_data['date'], infer_datetime_format=True)\n",
    "df_oneyeardata = df_merged_data.loc[(df_merged_data['date'] > '2016-08-23') & (df_merged_data['date'] <= '2017-08-23')]\n",
    "df_oneyeardata = df_oneyeardata.dropna()\n",
    "df_oneyeardata\n",
    "\n",
    "df_precipitation = df_oneyeardata.groupby(['station']).agg(prcp_sum=('prcp', 'sum')).reset_index()\n",
    "df_station_precipitation = pd.merge(df_precipitation, df_station, how='left', on=['station'])\n",
    "df_station_precipitation \n",
    "\n",
    "df_station_precipitation = df_station_precipitation.sort_values(by=['prcp_sum'], ascending=[None])\n",
    "df_station_precipitation"
   ]
  },
  {
   "cell_type": "code",
   "execution_count": 34,
   "metadata": {},
   "outputs": [
    {
     "data": {
      "text/plain": [
       "[(62.0, 69.15384615384616, 77.0)]"
      ]
     },
     "execution_count": 34,
     "metadata": {},
     "output_type": "execute_result"
    }
   ],
   "source": [
    "# Create a query that will calculate the daily normals \n",
    "# (i.e. the averages for tmin, tmax, and tavg for all historic data matching a specific month and day)\n",
    "\n",
    "def daily_normals(singledate):\n",
    "    \"\"\"Daily Normals.    \n",
    "    Args:\n",
    "        date (str): A date string in the format '%m-%d'        \n",
    "    Returns:\n",
    "        A list of tuples containing the daily normals, tmin, tavg, and tmax    \n",
    "    \"\"\"\n",
    "    # Create our session (link) from Python to the DB\n",
    "    session = Session(engine)\n",
    "    sel = [func.min(Measurement.tobs), func.avg(Measurement.tobs), func.max(Measurement.tobs)]\n",
    "    return session.query(*sel).filter(func.strftime(\"%m-%d\", Measurement.date) == singledate).all()\n",
    "    \n",
    "daily_normals(\"01-01\")"
   ]
  },
  {
   "cell_type": "code",
   "execution_count": 35,
   "metadata": {},
   "outputs": [
    {
     "name": "stdout",
     "output_type": "stream",
     "text": [
      "Enter a date in MM-DD format08-23\n"
     ]
    },
    {
     "data": {
      "text/plain": [
       "[(67.0, 76.6923076923077, 87.0)]"
      ]
     },
     "execution_count": 35,
     "metadata": {},
     "output_type": "execute_result"
    }
   ],
   "source": [
    "date_input = str(input('Enter a date in MM-DD format'))\n",
    "daily_normals(date_input)"
   ]
  },
  {
   "cell_type": "code",
   "execution_count": 36,
   "metadata": {},
   "outputs": [
    {
     "data": {
      "text/plain": [
       "DatetimeIndex(['2017-03-06', '2017-03-07', '2017-03-08', '2017-03-09',\n",
       "               '2017-03-10', '2017-03-11', '2017-03-12', '2017-03-13',\n",
       "               '2017-03-14', '2017-03-15',\n",
       "               ...\n",
       "               '2017-08-14', '2017-08-15', '2017-08-16', '2017-08-17',\n",
       "               '2017-08-18', '2017-08-19', '2017-08-20', '2017-08-21',\n",
       "               '2017-08-22', '2017-08-23'],\n",
       "              dtype='datetime64[ns]', length=171, freq='D')"
      ]
     },
     "execution_count": 36,
     "metadata": {},
     "output_type": "execute_result"
    }
   ],
   "source": [
    "# calculate the daily normals for your trip\n",
    "# push each tuple of calculations into a list called `normals`\n",
    "\n",
    "# Set the start and end date of the trip\n",
    "#2017-03-06-Start Date\n",
    "#2017-08-23-End Date\n",
    "\n",
    "# Use the start and end date to create a range of dates\n",
    "start_date=\"2017-03-06\"\n",
    "end_date= \"2017-08-23\"\n",
    "trip_dates=pd.date_range(start_date, end_date, freq='D')\n",
    "trip_dates\n",
    "\n"
   ]
  },
  {
   "cell_type": "code",
   "execution_count": 37,
   "metadata": {},
   "outputs": [
    {
     "data": {
      "text/plain": [
       "[(60.0, 69.20338983050847, 76.0),\n",
       " (60.0, 69.17241379310344, 78.0),\n",
       " (59.0, 68.72413793103448, 78.0),\n",
       " (57.0, 68.56140350877193, 75.0),\n",
       " (57.0, 69.12280701754386, 75.0),\n",
       " (60.0, 69.89285714285714, 82.0),\n",
       " (62.0, 69.88888888888889, 80.0),\n",
       " (56.0, 69.29629629629629, 77.0),\n",
       " (62.0, 70.32758620689656, 77.0),\n",
       " (58.0, 68.54716981132076, 76.0),\n",
       " (60.0, 69.70370370370371, 78.0),\n",
       " (57.0, 68.54, 75.0),\n",
       " (57.0, 67.7843137254902, 76.0),\n",
       " (60.0, 69.1, 75.0),\n",
       " (62.0, 70.11764705882354, 80.0),\n",
       " (60.0, 71.07692307692308, 77.0),\n",
       " (65.0, 71.75471698113208, 77.0),\n",
       " (63.0, 70.79629629629629, 78.0),\n",
       " (62.0, 71.5, 77.0),\n",
       " (63.0, 71.5, 78.0),\n",
       " (64.0, 71.38, 80.0),\n",
       " (63.0, 71.53846153846153, 80.0),\n",
       " (59.0, 71.51785714285714, 82.0),\n",
       " (58.0, 71.35714285714286, 77.0),\n",
       " (62.0, 72.17543859649123, 79.0),\n",
       " (61.0, 71.875, 79.0),\n",
       " (60.0, 71.87931034482759, 80.0),\n",
       " (53.0, 71.82142857142857, 79.0),\n",
       " (55.0, 72.2280701754386, 78.0),\n",
       " (58.0, 72.01639344262296, 78.0),\n",
       " (61.0, 72.28813559322033, 80.0),\n",
       " (67.0, 71.57142857142857, 77.0),\n",
       " (63.0, 71.10526315789474, 78.0),\n",
       " (66.0, 72.10526315789474, 77.0),\n",
       " (62.0, 71.6140350877193, 78.0),\n",
       " (64.0, 71.40350877192982, 79.0),\n",
       " (65.0, 72.49180327868852, 82.0),\n",
       " (65.0, 72.22413793103448, 80.0),\n",
       " (64.0, 71.52542372881356, 79.0),\n",
       " (65.0, 72.75, 81.0),\n",
       " (61.0, 71.79310344827586, 79.0),\n",
       " (62.0, 71.55357142857143, 81.0),\n",
       " (65.0, 71.93103448275862, 77.0),\n",
       " (67.0, 72.49152542372882, 77.0),\n",
       " (65.0, 72.42105263157895, 83.0),\n",
       " (64.0, 72.73684210526316, 80.0),\n",
       " (66.0, 72.32142857142857, 78.0),\n",
       " (65.0, 72.92727272727272, 84.0),\n",
       " (65.0, 73.01818181818182, 79.0),\n",
       " (67.0, 73.3103448275862, 80.0),\n",
       " (66.0, 73.96551724137932, 83.0),\n",
       " (66.0, 74.01724137931035, 81.0),\n",
       " (65.0, 72.87272727272727, 81.0),\n",
       " (63.0, 73.46428571428571, 79.0),\n",
       " (66.0, 73.30357142857143, 81.0),\n",
       " (58.0, 71.5576923076923, 78.0),\n",
       " (65.0, 72.75925925925925, 79.0),\n",
       " (65.0, 73.05084745762711, 79.0),\n",
       " (67.0, 73.41071428571429, 84.0),\n",
       " (65.0, 73.59649122807018, 78.0),\n",
       " (67.0, 73.39655172413794, 79.0),\n",
       " (66.0, 73.14035087719299, 80.0),\n",
       " (64.0, 71.78846153846153, 79.0),\n",
       " (65.0, 72.18867924528301, 80.0),\n",
       " (67.0, 72.9322033898305, 79.0),\n",
       " (64.0, 73.3157894736842, 78.0),\n",
       " (65.0, 73.61111111111111, 79.0),\n",
       " (65.0, 73.13793103448276, 79.0),\n",
       " (67.0, 73.14285714285714, 79.0),\n",
       " (63.0, 73.89285714285714, 80.0),\n",
       " (63.0, 73.69090909090909, 79.0),\n",
       " (68.0, 74.37931034482759, 80.0),\n",
       " (68.0, 74.45, 79.0),\n",
       " (68.0, 74.10714285714286, 82.0),\n",
       " (65.0, 73.80701754385964, 79.0),\n",
       " (68.0, 73.89655172413794, 79.0),\n",
       " (64.0, 72.96428571428571, 80.0),\n",
       " (64.0, 74.45614035087719, 80.0),\n",
       " (68.0, 74.94827586206897, 87.0),\n",
       " (67.0, 73.94827586206897, 79.0),\n",
       " (68.0, 74.27586206896552, 79.0),\n",
       " (65.0, 74.03636363636363, 82.0),\n",
       " (65.0, 74.49090909090908, 80.0),\n",
       " (67.0, 74.27777777777777, 82.0),\n",
       " (64.0, 74.19607843137256, 80.0),\n",
       " (69.0, 74.33333333333333, 81.0),\n",
       " (68.0, 74.4, 81.0),\n",
       " (64.0, 74.6140350877193, 81.0),\n",
       " (65.0, 74.4, 81.0),\n",
       " (65.0, 74.03448275862068, 80.0),\n",
       " (65.0, 73.81818181818181, 81.0),\n",
       " (68.0, 74.85454545454546, 81.0),\n",
       " (70.0, 75.17543859649123, 80.0),\n",
       " (68.0, 75.07142857142857, 81.0),\n",
       " (70.0, 75.58620689655173, 81.0),\n",
       " (69.0, 75.15254237288136, 81.0),\n",
       " (68.0, 75.14285714285714, 81.0),\n",
       " (69.0, 76.01960784313725, 84.0),\n",
       " (66.0, 75.66666666666667, 83.0),\n",
       " (68.0, 75.66666666666667, 81.0),\n",
       " (69.0, 75.62711864406779, 81.0),\n",
       " (67.0, 75.40350877192982, 81.0),\n",
       " (69.0, 75.41379310344827, 81.0),\n",
       " (68.0, 74.59322033898304, 81.0),\n",
       " (69.0, 74.60344827586206, 80.0),\n",
       " (70.0, 75.44067796610169, 82.0),\n",
       " (68.0, 73.96491228070175, 85.0),\n",
       " (68.0, 74.75862068965517, 82.0),\n",
       " (69.0, 75.15789473684211, 81.0),\n",
       " (68.0, 74.54385964912281, 80.0),\n",
       " (68.0, 74.96428571428571, 84.0),\n",
       " (68.0, 74.10344827586206, 80.0),\n",
       " (67.0, 74.21428571428571, 82.0),\n",
       " (66.0, 75.01785714285714, 81.0),\n",
       " (69.0, 74.88679245283019, 80.0),\n",
       " (67.0, 74.91525423728814, 80.0),\n",
       " (67.0, 75.59615384615384, 81.0),\n",
       " (67.0, 74.77777777777777, 81.0),\n",
       " (68.0, 75.40384615384616, 82.0),\n",
       " (68.0, 75.32075471698113, 87.0),\n",
       " (70.0, 76.57142857142857, 81.0),\n",
       " (66.0, 75.0, 81.0),\n",
       " (69.0, 75.0, 81.0),\n",
       " (69.0, 74.91071428571429, 82.0),\n",
       " (69.0, 76.08333333333333, 83.0),\n",
       " (68.0, 76.19298245614036, 83.0),\n",
       " (68.0, 75.62068965517241, 82.0),\n",
       " (70.0, 75.78947368421052, 81.0),\n",
       " (67.0, 75.96491228070175, 82.0),\n",
       " (69.0, 76.1896551724138, 81.0),\n",
       " (61.0, 76.2280701754386, 82.0),\n",
       " (68.0, 76.2542372881356, 82.0),\n",
       " (70.0, 76.34482758620689, 83.0),\n",
       " (70.0, 76.30188679245283, 83.0),\n",
       " (72.0, 76.63793103448276, 83.0),\n",
       " (68.0, 75.89090909090909, 83.0),\n",
       " (69.0, 75.46296296296296, 82.0),\n",
       " (69.0, 76.9245283018868, 83.0),\n",
       " (69.0, 75.78846153846153, 81.0),\n",
       " (70.0, 76.20370370370371, 84.0),\n",
       " (69.0, 76.55555555555556, 81.0),\n",
       " (67.0, 76.89090909090909, 84.0),\n",
       " (71.0, 76.4423076923077, 86.0),\n",
       " (68.0, 76.58181818181818, 83.0),\n",
       " (69.0, 76.46428571428571, 82.0),\n",
       " (69.0, 76.47058823529412, 83.0),\n",
       " (69.0, 77.35185185185185, 84.0),\n",
       " (72.0, 77.03571428571429, 83.0),\n",
       " (67.0, 75.54, 83.0),\n",
       " (68.0, 75.60377358490567, 84.0),\n",
       " (70.0, 76.61111111111111, 85.0),\n",
       " (69.0, 76.71153846153847, 84.0),\n",
       " (69.0, 76.14814814814815, 82.0),\n",
       " (67.0, 76.25, 83.0),\n",
       " (71.0, 77.15686274509804, 83.0),\n",
       " (68.0, 76.5576923076923, 83.0),\n",
       " (69.0, 75.98039215686275, 81.0),\n",
       " (65.0, 76.42, 83.0),\n",
       " (67.0, 75.98113207547169, 82.0),\n",
       " (67.0, 76.52727272727273, 83.0),\n",
       " (71.0, 76.98245614035088, 84.0),\n",
       " (71.0, 76.77777777777777, 82.0),\n",
       " (69.0, 76.47169811320755, 83.0),\n",
       " (69.0, 76.08, 83.0),\n",
       " (69.0, 76.125, 83.0),\n",
       " (70.0, 76.92307692307692, 84.0),\n",
       " (69.0, 75.94642857142857, 85.0),\n",
       " (68.0, 76.45283018867924, 82.0),\n",
       " (67.0, 76.4, 83.0),\n",
       " (69.0, 76.47169811320755, 84.0),\n",
       " (67.0, 76.6923076923077, 87.0)]"
      ]
     },
     "execution_count": 37,
     "metadata": {},
     "output_type": "execute_result"
    }
   ],
   "source": [
    "# Stip off the year and save a list of %m-%d strings\n",
    "trip_dates_month=trip_dates.strftime('%m-%d')\n",
    "trip_dates_month\n",
    "normals=[]\n",
    "# Loop through the list of %m-%d strings and calculate the normals for each date\n",
    "for date in trip_dates_month:\n",
    "    normals.append(daily_normals(date)[0])\n",
    "normals"
   ]
  },
  {
   "cell_type": "code",
   "execution_count": 38,
   "metadata": {},
   "outputs": [
    {
     "data": {
      "text/html": [
       "<div>\n",
       "<style scoped>\n",
       "    .dataframe tbody tr th:only-of-type {\n",
       "        vertical-align: middle;\n",
       "    }\n",
       "\n",
       "    .dataframe tbody tr th {\n",
       "        vertical-align: top;\n",
       "    }\n",
       "\n",
       "    .dataframe thead th {\n",
       "        text-align: right;\n",
       "    }\n",
       "</style>\n",
       "<table border=\"1\" class=\"dataframe\">\n",
       "  <thead>\n",
       "    <tr style=\"text-align: right;\">\n",
       "      <th></th>\n",
       "      <th>Minimum Temperature</th>\n",
       "      <th>Average Temperature</th>\n",
       "      <th>Maximum Temperature</th>\n",
       "    </tr>\n",
       "    <tr>\n",
       "      <th>Date</th>\n",
       "      <th></th>\n",
       "      <th></th>\n",
       "      <th></th>\n",
       "    </tr>\n",
       "  </thead>\n",
       "  <tbody>\n",
       "    <tr>\n",
       "      <th>2017-03-06</th>\n",
       "      <td>60.0</td>\n",
       "      <td>69.203390</td>\n",
       "      <td>76.0</td>\n",
       "    </tr>\n",
       "    <tr>\n",
       "      <th>2017-03-07</th>\n",
       "      <td>60.0</td>\n",
       "      <td>69.172414</td>\n",
       "      <td>78.0</td>\n",
       "    </tr>\n",
       "    <tr>\n",
       "      <th>2017-03-08</th>\n",
       "      <td>59.0</td>\n",
       "      <td>68.724138</td>\n",
       "      <td>78.0</td>\n",
       "    </tr>\n",
       "    <tr>\n",
       "      <th>2017-03-09</th>\n",
       "      <td>57.0</td>\n",
       "      <td>68.561404</td>\n",
       "      <td>75.0</td>\n",
       "    </tr>\n",
       "    <tr>\n",
       "      <th>2017-03-10</th>\n",
       "      <td>57.0</td>\n",
       "      <td>69.122807</td>\n",
       "      <td>75.0</td>\n",
       "    </tr>\n",
       "    <tr>\n",
       "      <th>...</th>\n",
       "      <td>...</td>\n",
       "      <td>...</td>\n",
       "      <td>...</td>\n",
       "    </tr>\n",
       "    <tr>\n",
       "      <th>2017-08-19</th>\n",
       "      <td>69.0</td>\n",
       "      <td>75.946429</td>\n",
       "      <td>85.0</td>\n",
       "    </tr>\n",
       "    <tr>\n",
       "      <th>2017-08-20</th>\n",
       "      <td>68.0</td>\n",
       "      <td>76.452830</td>\n",
       "      <td>82.0</td>\n",
       "    </tr>\n",
       "    <tr>\n",
       "      <th>2017-08-21</th>\n",
       "      <td>67.0</td>\n",
       "      <td>76.400000</td>\n",
       "      <td>83.0</td>\n",
       "    </tr>\n",
       "    <tr>\n",
       "      <th>2017-08-22</th>\n",
       "      <td>69.0</td>\n",
       "      <td>76.471698</td>\n",
       "      <td>84.0</td>\n",
       "    </tr>\n",
       "    <tr>\n",
       "      <th>2017-08-23</th>\n",
       "      <td>67.0</td>\n",
       "      <td>76.692308</td>\n",
       "      <td>87.0</td>\n",
       "    </tr>\n",
       "  </tbody>\n",
       "</table>\n",
       "<p>171 rows × 3 columns</p>\n",
       "</div>"
      ],
      "text/plain": [
       "            Minimum Temperature  Average Temperature  Maximum Temperature\n",
       "Date                                                                     \n",
       "2017-03-06                 60.0            69.203390                 76.0\n",
       "2017-03-07                 60.0            69.172414                 78.0\n",
       "2017-03-08                 59.0            68.724138                 78.0\n",
       "2017-03-09                 57.0            68.561404                 75.0\n",
       "2017-03-10                 57.0            69.122807                 75.0\n",
       "...                         ...                  ...                  ...\n",
       "2017-08-19                 69.0            75.946429                 85.0\n",
       "2017-08-20                 68.0            76.452830                 82.0\n",
       "2017-08-21                 67.0            76.400000                 83.0\n",
       "2017-08-22                 69.0            76.471698                 84.0\n",
       "2017-08-23                 67.0            76.692308                 87.0\n",
       "\n",
       "[171 rows x 3 columns]"
      ]
     },
     "execution_count": 38,
     "metadata": {},
     "output_type": "execute_result"
    }
   ],
   "source": [
    "# Load the previous query results into a Pandas DataFrame and add the `trip_dates` range as the `date` index\n",
    "df_normals = pd.DataFrame(normals,columns=['Minimum Temperature','Average Temperature','Maximum Temperature'])\n",
    "df_normals['Date'] = trip_dates\n",
    "df_normals=df_normals.set_index('Date')\n",
    "df_normals"
   ]
  },
  {
   "cell_type": "code",
   "execution_count": 41,
   "metadata": {},
   "outputs": [
    {
     "data": {
      "image/png": "[encoded data removed]",
      "text/plain": [
       "<Figure size 432x288 with 1 Axes>"
      ]
     },
     "metadata": {},
     "output_type": "display_data"
    }
   ],
   "source": [
    "# Plot the daily normals as an area plot with `stacked=False`\n",
    "ax.set(xticks=df_normals.index, ylabel= 'Temperature')\n",
    "ax = df_normals.plot.area(stacked=False)\n",
    "plt.savefig(\"output/fig04_precipitation.png\")"
   ]
  },
  {
   "cell_type": "code",
   "execution_count": null,
   "metadata": {},
   "outputs": [],
   "source": []
  }
 ],
 "metadata": {
  "kernel_info": {
   "name": "python3"
  },
  "kernelspec": {
   "display_name": "Python 3",
   "language": "python",
   "name": "python3"
  },
  "language_info": {
   "codemirror_mode": {
    "name": "ipython",
    "version": 3
   },
   "file_extension": ".py",
   "mimetype": "text/x-python",
   "name": "python",
   "nbconvert_exporter": "python",
   "pygments_lexer": "ipython3",
   "version": "3.6.10"
  },
  "nteract": {
   "version": "0.12.3"
  },
  "varInspector": {
   "cols": {
    "lenName": 16,
    "lenType": 16,
    "lenVar": 40
   },
   "kernels_config": {
    "python": {
     "delete_cmd_postfix": "",
     "delete_cmd_prefix": "del ",
     "library": "var_list.py",
     "varRefreshCmd": "print(var_dic_list())"
    },
    "r": {
     "delete_cmd_postfix": ") ",
     "delete_cmd_prefix": "rm(",
     "library": "var_list.r",
     "varRefreshCmd": "cat(var_dic_list()) "
    }
   },
   "types_to_exclude": [
    "module",
    "function",
    "builtin_function_or_method",
    "instance",
    "_Feature"
   ],
   "window_display": false
  }
 },
 "nbformat": 4,
 "nbformat_minor": 2
}
